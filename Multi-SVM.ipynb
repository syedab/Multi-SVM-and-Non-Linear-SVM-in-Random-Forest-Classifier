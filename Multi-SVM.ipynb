{
 "cells": [
  {
   "cell_type": "code",
   "execution_count": 95,
   "metadata": {},
   "outputs": [],
   "source": [
    "import numpy as np\n",
    "from sklearn import datasets\n",
    "from sklearn.model_selection import train_test_split\n",
    "import matplotlib.pyplot as plt\n",
    "from mlxtend.plotting.decision_regions import plot_decision_regions\n",
    "\n",
    "%matplotlib widget"
   ]
  },
  {
   "cell_type": "markdown",
   "metadata": {},
   "source": [
    "Multi- Class SVM"
   ]
  },
  {
   "cell_type": "markdown",
   "metadata": {},
   "source": [
    "defining kernel and poly functions"
   ]
  },
  {
   "cell_type": "code",
   "execution_count": 96,
   "metadata": {},
   "outputs": [],
   "source": [
    "\n",
    "def linear_kernel(x1, x2):\n",
    "    return x1.T @ x2\n",
    "\n",
    "def poly_kernel(x1, x2, d = 2, c = 0):\n",
    "    return (x1 @ x2.T + c)**d"
   ]
  },
  {
   "cell_type": "markdown",
   "metadata": {},
   "source": [
    "deriving multiclass svm\n"
   ]
  },
  {
   "cell_type": "code",
   "execution_count": 97,
   "metadata": {},
   "outputs": [],
   "source": [
    "\n",
    "class multi_class_svm():\n",
    "    def __init__(self, kernel='linear', c=1.0, tol=1e-3, maxiter=1000):\n",
    "        self._kernel = kernel\n",
    "        self._tol = tol\n",
    "        self._maxiter = maxiter\n",
    "        self.epocs = 0.001\n",
    "        \n",
    "        if self._kernel == 'linear':\n",
    "            self._k = linear_kernel\n",
    "        elif self._kernel == 'poly':\n",
    "            self._k = poly_kernel\n",
    "        \n",
    "        self._c = c\n",
    "        \n",
    "    def _init_params(self):\n",
    "        self._error_cache = np.zeros(self._data.shape[0])\n",
    "        self._alphas = np.ones(self._data.shape[0]) * .1\n",
    "        self._b = 0\n",
    "        \n",
    "        if self._kernel == 'linear':\n",
    "            self._weights = np.random.rand(self._data.shape[1])\n",
    "\n",
    "    def predict_score(self, x):\n",
    "        \"\"\"Predicts a raw score (not classification)\n",
    "        \n",
    "        Arguments\n",
    "            x, array (batch_size, n_features) - input samples.\n",
    "        \"\"\"\n",
    "        u = 0\n",
    "        if self._kernel == 'linear':\n",
    "            u = self._weights @ x.T - self._b\n",
    "        else:\n",
    "            for i in range(self._data.shape[0]):\n",
    "                u += self._targets[i] * self._alphas[i] * self._k(self._data[i], x)\n",
    "            u -= self._b\n",
    "        return u\n",
    "        \n",
    "    def predict(self, x):\n",
    "        \"\"\"Classifies input samples.\n",
    "        \n",
    "        Arguments\n",
    "            x, array (batch_size, n_features) - input samples.\n",
    "        \"\"\"\n",
    "        score = self.predict_score(x)\n",
    "\n",
    "        if type(score) is np.ndarray:\n",
    "            score[score < 0] = -1\n",
    "            score[score >= 0] = 1\n",
    "\n",
    "            return score\n",
    "        else:\n",
    "            return -1 if score < 0 else 1\n",
    "\n",
    "    def smo_step(self, i1, i2):\n",
    "        if i1 == i2:\n",
    "            return 0\n",
    "\n",
    "        x1 = self._data[i1]\n",
    "        x2 = self._data[i2]\n",
    "        y1 = self._targets[i1]\n",
    "        y2 = self._targets[i2]\n",
    "        alpha1 = self._alphas[i1]\n",
    "        alpha2 = self._alphas[i2]\n",
    "\n",
    "        # Compute errors for x1 and x2\n",
    "        e1 = self.predict_score(x1) - y1\n",
    "        e2 = self.predict_score(x2) - y2\n",
    "\n",
    "        s = y1 * y2\n",
    "\n",
    "        if s == 1:\n",
    "            L = max(0, alpha2 + alpha1 - self._c)\n",
    "            H = min(self._c, alpha2 + alpha1)\n",
    "        else:\n",
    "            L = max(0, alpha2 - alpha1)\n",
    "            H = min(self._c, self._c + alpha2 - alpha1)\n",
    "\n",
    "        if L == H:\n",
    "            return 0\n",
    "\n",
    "        k11 = self._k(x1, x1)\n",
    "        k22 = self._k(x2, x2)\n",
    "        k12 = self._k(x1, x2)\n",
    "\n",
    "        eta = k11 + k22 - 2 * k12\n",
    "\n",
    "        if eta > 0:\n",
    "            a2 = alpha2 + y2 * (e1 - e2) / eta\n",
    "            if a2 <= L:\n",
    "                a2 = L\n",
    "            elif a2 >= H:\n",
    "                a2 = H\n",
    "        # TODO: the negative case\n",
    "        else:\n",
    "            print(f\"[DEBUG] smo_step: eta = {eta}\")\n",
    "            \n",
    "            z1 = (y1*(e1 + self._b)) - (alpha1 * k11) - (s*alpha2*k12)\n",
    "            z2 = (y2*(e2 + self._b)) - (s*alpha1*k12) - (alpha2*k22)\n",
    "           \n",
    "            L_1 = alpha1 + s*(alpha2 - L)\n",
    "            H_1 = alpha1 + s*(alpha2 - H)\n",
    "            \n",
    "            L_ob = (L_1*z1) + (L*z2) + (0.5*(L_1**2)*k11) + (0.5*(L**2)*k22) + (s*L*L_1*k12)\n",
    "            H_ob = (H_1*z1) + (H*z2) + (0.5*(H_1**2)*k11) + (0.5*(H**2)*k22) + (s*H*H_1*k12)\n",
    "\n",
    "\n",
    "            if (L_ob < H_ob- self.epocs):\n",
    "\n",
    "                a2 = L\n",
    "            elif (L_ob > (H_ob + self.epocs)):\n",
    "\n",
    "                a2 = H\n",
    "            else:\n",
    "                \n",
    "                a2 = alpha2\n",
    "            \n",
    "        if np.abs(a2 - alpha2) < 1e-3 * (a2 + alpha2 + 1e-3):\n",
    "            return 0\n",
    "\n",
    "        a1 = alpha1 + s * (alpha2 - a2)\n",
    "\n",
    "        # Update threshold to reflect change in Lagrange multipliers\n",
    "        b1 = e1 + y1 * (a1 - alpha1) * k11 + y2 * (a2 - alpha2) * k12 + self._b\n",
    "        b2 = e2 + y1 * (a1 - alpha1) * k12 + y2 * (a2 - alpha2) * k22 + self._b\n",
    "        self._b = (b1 + b2) / 2\n",
    "\n",
    "        # Update weight vector to reflect change in a1 & a2, if SVM is linear\n",
    "        if self._kernel == 'linear':\n",
    "            self._weights = np.sum((self._targets * self._alphas)[:, None] * self._data, axis=0)\n",
    "        \n",
    "        # Store a1 and a2 in alpha array\n",
    "        self._alphas[i1] = a1\n",
    "        self._alphas[i2] = a2\n",
    "\n",
    "        # update error cache using new multipliers\n",
    "        for i in range (self._data.shape[0]):\n",
    "            self._error_cache[i] = self.predict_score(self._data[i]) - self._targets[i]\n",
    "\n",
    "        return 1\n",
    "\n",
    "    def examine(self, i2):\n",
    "        x2 = self._data[i2]\n",
    "        y2 = self._targets[i2]\n",
    "        alpha2 = self._alphas[i2]\n",
    "        e2 = self.predict_score(x2) - y2\n",
    "        r2 = e2 * y2\n",
    "\n",
    "        # Heuristic for picking the first multiplier\n",
    "        if (r2 < -self._tol and alpha2 < self._c) or (r2 > self._tol and alpha2 > 0):\n",
    "            f_idxs = np.where((self._alphas != 0) & (self._alphas != self._c))[0]\n",
    "\n",
    "            if len(f_idxs) > 1:\n",
    "                # Hueristic for second multiplier: get i1 with lowest absolute error |e1 - e2|\n",
    "\n",
    "                # TODO: Clean this up\n",
    "                if e2 > 0:\n",
    "                    min_error = 999999\n",
    "                    for i, v in enumerate(f_idxs):\n",
    "                        if v == i2:\n",
    "                            continue\n",
    "\n",
    "                        if self._error_cache[v] == 0:\n",
    "                            self._error_cache[v] = self.predict_score(self._data[v]) - self._targets[v]\n",
    "                        error = np.abs(e2 - self._error_cache[v])\n",
    "\n",
    "                        if error < min_error:\n",
    "                            min_error = error\n",
    "                            i1 = v\n",
    "                else:\n",
    "                    max_error = -999999\n",
    "                    for i, v in enumerate(f_idxs):\n",
    "                        if v == i2:\n",
    "                            continue\n",
    "\n",
    "                        if self._error_cache[v] == 0:\n",
    "                            self._error_cache[v] = self.predict_score(self._data[v]) - self._targets[v]\n",
    "                        error = np.abs(e2 - self._error_cache[v])\n",
    "\n",
    "                        if error > max_error:\n",
    "                            max_error = error\n",
    "                            i1 = v\n",
    "\n",
    "                if self.smo_step(i1, i2):\n",
    "                    return 1\n",
    "                \n",
    "                # Loop over all non-zero and non-C alpha, starting at random point\n",
    "                for i, v in enumerate(np.random.permutation(f_idxs)):\n",
    "                    if self.smo_step(v, i2):\n",
    "                        return 1\n",
    "                \n",
    "                # Loop over all possible i1, starting at a random point\n",
    "                for i in range(self._data.shape[0]):\n",
    "                    if i == i2:\n",
    "                        continue\n",
    "                    if self.smo_step(i, i2):\n",
    "                        return 1\n",
    "                \n",
    "        return 0\n",
    "    \n",
    "    def fit(self, data, targets):\n",
    "        self._data = data\n",
    "        self._targets = targets\n",
    "        \n",
    "        self._init_params()\n",
    "        \n",
    "        n_changed = 0\n",
    "        examine_all = True\n",
    "        n_iter = 0\n",
    "        \n",
    "        while (n_changed > 0 or examine_all is True) and n_iter < self._maxiter:\n",
    "            n_changed = 0\n",
    "            n_iter += 1\n",
    "            \n",
    "            if examine_all is True:\n",
    "                # loop over all training examples\n",
    "                for i in range(data.shape[0]):\n",
    "                    n_changed += self.examine(i)\n",
    "            else:\n",
    "                # loop over examples where alpha is not 0 & not C\n",
    "                f_idxs = np.where((self._alphas != 0) & (self._alphas != self._c))[0]\n",
    "                for i, v in enumerate(f_idxs):\n",
    "                    n_changed += self.examine(v)\n",
    "            \n",
    "            if examine_all is True:\n",
    "                examine_all = False\n",
    "            elif n_changed == 0:\n",
    "                examine_all = True\n",
    "    def accuracy(self, B_pred,B):\n",
    "         B_pred = [1 if pred == -1. else 0 for pred in B_pred]\n",
    "         accuracy = np.sum(B == B_pred)/len(B)\n",
    "        \n",
    "         return accuracy\n",
    "    \n"
   ]
  },
  {
   "cell_type": "markdown",
   "metadata": {},
   "source": [
    "Loading iris dataset"
   ]
  },
  {
   "cell_type": "code",
   "execution_count": 98,
   "metadata": {},
   "outputs": [],
   "source": [
    "data = datasets.load_iris()\n",
    "\n",
    "A = data.data\n",
    "B = data.target\n",
    "A_train, A_test, B_train, B_test = train_test_split(A, B, random_state = 42, test_size = 0.1)"
   ]
  },
  {
   "cell_type": "markdown",
   "metadata": {},
   "source": [
    "Training Multi-class\n",
    "\n",
    "\n",
    "Model-1 - Type-A vs (Type-B and Type-C)"
   ]
  },
  {
   "cell_type": "code",
   "execution_count": 99,
   "metadata": {},
   "outputs": [
    {
     "name": "stdout",
     "output_type": "stream",
     "text": [
      "[0 0 0 0 0 0 0 0 0 0 0 0 0 0 0 0 0 0 0 0 0 0 0 0 0 0 0 0 0 0 0 0 0 0 0 0 0\n",
      " 0 0 0 0 0 0 0 0 0 0 0 0 0 1 1 1 1 1 1 1 1 1 1 1 1 1 1 1 1 1 1 1 1 1 1 1 1\n",
      " 1 1 1 1 1 1 1 1 1 1 1 1 1 1 1 1 1 1 1 1 1 1 1 1 1 1 1 1 1 1 1 1 1 1 1 1 1\n",
      " 1 1 1 1 1 1 1 1 1 1 1 1 1 1 1 1 1 1 1 1 1 1 1 1 1 1 1 1 1 1 1 1 1 1 1 1 1\n",
      " 1 1]\n"
     ]
    }
   ],
   "source": [
    "# Redefining B for this model\n",
    "B_for_model1 = []\n",
    "\n",
    "for i in range(len(B)):\n",
    "    if(B[i] != 0):\n",
    "        B_for_model1.append(1)\n",
    "    else:\n",
    "        B_for_model1.append(0)\n",
    "B_for_model1 = np.array(B_for_model1)\n",
    "print(B_for_model1)"
   ]
  },
  {
   "cell_type": "code",
   "execution_count": 100,
   "metadata": {},
   "outputs": [],
   "source": [
    "# data selected for testing sets and training\n",
    "A_train_m1, A_test_m1, B_train_m1, B_test_m1 = train_test_split(A, B_for_model1, random_state = 42, test_size=0.1)"
   ]
  },
  {
   "cell_type": "markdown",
   "metadata": {},
   "source": [
    "linear kernel"
   ]
  },
  {
   "cell_type": "code",
   "execution_count": 101,
   "metadata": {},
   "outputs": [
    {
     "name": "stdout",
     "output_type": "stream",
     "text": [
      "[DEBUG] smo_step: eta = 0.0\n",
      "[32.02365608 14.30946243 21.41655925  6.40473122]\n",
      "276.7611091439231\n",
      "Accuracy of linear svm model-1=  0.0 %\n"
     ]
    }
   ],
   "source": [
    "#Model 1 creation my model\n",
    "linear_svm_m1 = multi_class_svm(c =5.0)\n",
    "\n",
    "#Model 1 training and testing\n",
    "linear_svm_m1.fit(A_train_m1, B_train_m1)\n",
    "print(linear_svm_m1._weights)\n",
    "print(linear_svm_m1._b)\n",
    "\n",
    "\n",
    "pred_m1_svm = linear_svm_m1.predict(A_test_m1)\n",
    "print(\"Accuracy of linear svm model-1= \", (linear_svm_m1.accuracy(pred_m1_svm, B_test_m1))*100, \"%\")"
   ]
  },
  {
   "cell_type": "code",
   "execution_count": 102,
   "metadata": {},
   "outputs": [
    {
     "name": "stdout",
     "output_type": "stream",
     "text": [
      "coeff_=[[-0.18423705 -0.45122458  0.80794916  0.45071294]]\n",
      "intercept=[-0.1095615]\n",
      "Accuracy of linear svc model-1=  100.0\n"
     ]
    }
   ],
   "source": [
    "from sklearn.metrics import accuracy_score\n",
    "from sklearn.svm import LinearSVC\n",
    "\n",
    "\n",
    "linear_sk_model1 = LinearSVC()\n",
    "\n",
    "linear_sk_model1.fit(A_train_m1, B_train_m1.astype(np.int32))\n",
    "\n",
    "print(f\"coeff_={linear_sk_model1.coef_}\")\n",
    "print(f\"intercept={linear_sk_model1.intercept_}\")\n",
    "pred_m1_svc = linear_sk_model1.predict(A_test_m1)\n",
    "print(\"Accuracy of linear svc model-1= \", accuracy_score(B_test_m1, pred_m1_svc)*100)"
   ]
  },
  {
   "cell_type": "markdown",
   "metadata": {},
   "source": [
    "Poly kernel"
   ]
  },
  {
   "cell_type": "code",
   "execution_count": 103,
   "metadata": {},
   "outputs": [
    {
     "name": "stdout",
     "output_type": "stream",
     "text": [
      "[DEBUG] smo_step: eta = 0.0\n",
      "274.12938764508664\n",
      "Accuracy of poly svm model-1=  13.333333333333334 %\n"
     ]
    }
   ],
   "source": [
    "poly_svm_m1 = multi_class_svm(c=5.0)\n",
    "\n",
    "#training and testing of model-1\n",
    "\n",
    "poly_svm_m1.fit(A_train_m1, B_train_m1)\n",
    "#printing poly_svm\n",
    "print(poly_svm_m1._b)\n",
    "\n",
    "\n",
    "pred_m1_svm = poly_svm_m1.predict(A_test_m1)\n",
    "print(\"Accuracy of poly svm model-1= \", (poly_svm_m1.accuracy(pred_m1_svm, B_test_m1))*100, \"%\")"
   ]
  },
  {
   "cell_type": "code",
   "execution_count": 104,
   "metadata": {},
   "outputs": [
    {
     "name": "stdout",
     "output_type": "stream",
     "text": [
      "intercept=[-1.25416081]\n",
      "Accuracy of poly svc model 1 =  100.0\n"
     ]
    }
   ],
   "source": [
    "from sklearn.svm import SVC\n",
    "poly_svc_m1 = SVC(kernel = 'poly', degree = 2)\n",
    "poly_svc_m1.fit(A_train_m1, B_train_m1.astype(np.int32))\n",
    "\n",
    "#printing intercept\n",
    "print(f\"intercept={poly_svc_m1.intercept_}\")\n",
    "#prediction of svc\n",
    "pred_m1_svc = poly_svc_m1.predict(A_test_m1)\n",
    "print(\"Accuracy of poly svc model 1 = \", accuracy_score(B_test_m1, pred_m1_svc)*100)"
   ]
  },
  {
   "cell_type": "markdown",
   "metadata": {},
   "source": [
    "Model-2 - Type-B vs (Type-A and Type-C)"
   ]
  },
  {
   "cell_type": "code",
   "execution_count": 105,
   "metadata": {},
   "outputs": [
    {
     "name": "stdout",
     "output_type": "stream",
     "text": [
      "[0 0 0 0 0 0 0 0 0 0 0 0 0 0 0 0 0 0 0 0 0 0 0 0 0 0 0 0 0 0 0 0 0 0 0 0 0\n",
      " 0 0 0 0 0 0 0 0 0 0 0 0 0 1 1 1 1 1 1 1 1 1 1 1 1 1 1 1 1 1 1 1 1 1 1 1 1\n",
      " 1 1 1 1 1 1 1 1 1 1 1 1 1 1 1 1 1 1 1 1 1 1 1 1 1 1 1 1 1 1 1 1 1 1 1 1 1\n",
      " 1 1 1 1 1 1 1 1 1 1 1 1 1 1 1 1 1 1 1 1 1 1 1 1 1 1 1 1 1 1 1 1 1 1 1 1 1\n",
      " 1 1]\n"
     ]
    }
   ],
   "source": [
    "# Redefining B for this model\n",
    "B_for_model2 = []\n",
    "\n",
    "for i in range(len(B)):\n",
    "    if(B[i] != 0):\n",
    "        B_for_model2.append(1)\n",
    "    else:\n",
    "        B_for_model2.append(0)\n",
    "B_for_model2 = np.array(B_for_model2)\n",
    "print(B_for_model2)"
   ]
  },
  {
   "cell_type": "code",
   "execution_count": 106,
   "metadata": {},
   "outputs": [],
   "source": [
    "# data selected for testing sets and training\n",
    "A_train_m2, A_test_m2, B_train_m2, B_test_m2 = train_test_split(A, B_for_model2, random_state = 42, test_size=0.1)"
   ]
  },
  {
   "cell_type": "markdown",
   "metadata": {},
   "source": [
    "linear kernel"
   ]
  },
  {
   "cell_type": "code",
   "execution_count": 107,
   "metadata": {},
   "outputs": [
    {
     "name": "stdout",
     "output_type": "stream",
     "text": [
      "[DEBUG] smo_step: eta = 0.0\n",
      "[31.34194187 14.73677675 21.28935931  6.36838837]\n",
      "201.7387423901552\n",
      "Accuracy of linear svm model-2=  40.0 %\n"
     ]
    }
   ],
   "source": [
    "#Model 2 creation my model\n",
    "linear_svm_m2 = multi_class_svm(c =5.0)\n",
    "\n",
    "#Model 2 training and testing\n",
    "linear_svm_m2.fit(A_train_m2, B_train_m2)\n",
    "print(linear_svm_m2._weights)\n",
    "print(linear_svm_m2._b)\n",
    "\n",
    "\n",
    "pred_m2_svm = linear_svm_m2.predict(A_test_m2)\n",
    "print(\"Accuracy of linear svm model-2= \", (linear_svm_m2.accuracy(pred_m2_svm, B_test_m2))*100, \"%\")"
   ]
  },
  {
   "cell_type": "code",
   "execution_count": 108,
   "metadata": {},
   "outputs": [
    {
     "name": "stdout",
     "output_type": "stream",
     "text": [
      "coeff_=[[-0.18424767 -0.4512312   0.80794563  0.45071398]]\n",
      "intercept=[-0.10956268]\n",
      "Accuracy of linear svc model-2=  100.0\n"
     ]
    }
   ],
   "source": [
    "from sklearn.metrics import accuracy_score\n",
    "from sklearn.svm import LinearSVC\n",
    "\n",
    "\n",
    "linear_sk_model2 = LinearSVC()\n",
    "\n",
    "linear_sk_model2.fit(A_train_m2, B_train_m2.astype(np.int32))\n",
    "\n",
    "print(f\"coeff_={linear_sk_model2.coef_}\")\n",
    "print(f\"intercept={linear_sk_model2.intercept_}\")\n",
    "pred_m2_svc = linear_sk_model2.predict(A_test_m2)\n",
    "print(\"Accuracy of linear svc model-2= \", accuracy_score(B_test_m2, pred_m2_svc)*100)"
   ]
  },
  {
   "cell_type": "markdown",
   "metadata": {},
   "source": [
    "poly kernel"
   ]
  },
  {
   "cell_type": "code",
   "execution_count": 118,
   "metadata": {},
   "outputs": [
    {
     "name": "stdout",
     "output_type": "stream",
     "text": [
      "[DEBUG] smo_step: eta = 0.0\n",
      "0.6649364708001415\n",
      "Accuracy of poly svm model-2=  40.0 %\n"
     ]
    }
   ],
   "source": [
    "poly_svm_m2 = multi_class_svm(c=5.0)\n",
    "\n",
    "#training and testing of model-2\n",
    "\n",
    "poly_svm_m2.fit(A_train_m2, B_train_m2)\n",
    "#printing poly_svm\n",
    "print(poly_svm_m2._b)\n",
    "\n",
    "\n",
    "pred_m2_svm = poly_svm_m2.predict(A_test_m2)\n",
    "print(\"Accuracy of poly svm model-2= \", (poly_svm_m2.accuracy(pred_m2_svm, B_test_m2))*100, \"%\")"
   ]
  },
  {
   "cell_type": "code",
   "execution_count": 110,
   "metadata": {},
   "outputs": [
    {
     "name": "stdout",
     "output_type": "stream",
     "text": [
      "intercept=[-1.25416081]\n",
      "Accuracy of poly svc model-2 =  100.0\n"
     ]
    }
   ],
   "source": [
    "from sklearn.svm import SVC\n",
    "poly_svc_m2 = SVC(kernel = 'poly', degree = 2)\n",
    "poly_svc_m2.fit(A_train_m2, B_train_m2.astype(np.int32))\n",
    "\n",
    "#printing intercept\n",
    "print(f\"intercept={poly_svc_m2.intercept_}\")\n",
    "#prediction of svc\n",
    "pred_m2_svc = poly_svc_m2.predict(A_test_m2)\n",
    "print(\"Accuracy of poly svc model-2 = \", accuracy_score(B_test_m2, pred_m2_svc)*100)"
   ]
  },
  {
   "cell_type": "markdown",
   "metadata": {},
   "source": [
    "Model-3 - Type-C vs (Type-A and Type-B)"
   ]
  },
  {
   "cell_type": "code",
   "execution_count": 111,
   "metadata": {},
   "outputs": [
    {
     "name": "stdout",
     "output_type": "stream",
     "text": [
      "[0 0 0 0 0 0 0 0 0 0 0 0 0 0 0 0 0 0 0 0 0 0 0 0 0 0 0 0 0 0 0 0 0 0 0 0 0\n",
      " 0 0 0 0 0 0 0 0 0 0 0 0 0 1 1 1 1 1 1 1 1 1 1 1 1 1 1 1 1 1 1 1 1 1 1 1 1\n",
      " 1 1 1 1 1 1 1 1 1 1 1 1 1 1 1 1 1 1 1 1 1 1 1 1 1 1 1 1 1 1 1 1 1 1 1 1 1\n",
      " 1 1 1 1 1 1 1 1 1 1 1 1 1 1 1 1 1 1 1 1 1 1 1 1 1 1 1 1 1 1 1 1 1 1 1 1 1\n",
      " 1 1]\n"
     ]
    }
   ],
   "source": [
    "# Redefining B for this model\n",
    "B_for_model3 = []\n",
    "\n",
    "for i in range(len(B)):\n",
    "    if(B[i] != 0):\n",
    "        B_for_model3.append(1)\n",
    "    else:\n",
    "        B_for_model3.append(0)\n",
    "B_for_model3 = np.array(B_for_model3)\n",
    "print(B_for_model3)"
   ]
  },
  {
   "cell_type": "code",
   "execution_count": 112,
   "metadata": {},
   "outputs": [],
   "source": [
    "# data selected for testing sets and training\n",
    "A_train_m3, A_test_m3, B_train_m3, B_test_m3 = train_test_split(A, B_for_model3, random_state = 42, test_size=0.1)"
   ]
  },
  {
   "cell_type": "markdown",
   "metadata": {},
   "source": [
    "linear kernel"
   ]
  },
  {
   "cell_type": "code",
   "execution_count": 119,
   "metadata": {},
   "outputs": [
    {
     "name": "stdout",
     "output_type": "stream",
     "text": [
      "[DEBUG] smo_step: eta = 0.0\n",
      "[35.82092337 16.52836935 24.42464636  7.26418467]\n",
      "283.95927633255184\n",
      "Accuracy of linear svm model-3=  26.666666666666668 %\n"
     ]
    }
   ],
   "source": [
    "#Model 3 creation my model\n",
    "linear_svm_m3 = multi_class_svm(c =5.0)\n",
    "\n",
    "#Model 3 training and testing\n",
    "linear_svm_m3.fit(A_train_m3, B_train_m3)\n",
    "print(linear_svm_m3._weights)\n",
    "print(linear_svm_m3._b)\n",
    "\n",
    "\n",
    "pred_m3_svm = linear_svm_m3.predict(A_test_m3)\n",
    "print(\"Accuracy of linear svm model-3= \", (linear_svm_m3.accuracy(pred_m3_svm, B_test_m3))*100, \"%\")"
   ]
  },
  {
   "cell_type": "code",
   "execution_count": 114,
   "metadata": {},
   "outputs": [
    {
     "name": "stdout",
     "output_type": "stream",
     "text": [
      "coeff_=[[-0.18424169 -0.45122875  0.80794112  0.45071406]]\n",
      "intercept=[-0.10956374]\n",
      "Accuracy of linear svc model-3=  100.0\n"
     ]
    }
   ],
   "source": [
    "from sklearn.metrics import accuracy_score\n",
    "from sklearn.svm import LinearSVC\n",
    "\n",
    "\n",
    "linear_sk_model3 = LinearSVC()\n",
    "\n",
    "linear_sk_model3.fit(A_train_m3, B_train_m3.astype(np.int32))\n",
    "\n",
    "print(f\"coeff_={linear_sk_model3.coef_}\")\n",
    "print(f\"intercept={linear_sk_model3.intercept_}\")\n",
    "pred_m3_svc = linear_sk_model3.predict(A_test_m3)\n",
    "print(\"Accuracy of linear svc model-3= \", accuracy_score(B_test_m3, pred_m3_svc)*100)"
   ]
  },
  {
   "cell_type": "markdown",
   "metadata": {},
   "source": [
    "poly kernel"
   ]
  },
  {
   "cell_type": "code",
   "execution_count": 116,
   "metadata": {},
   "outputs": [
    {
     "name": "stdout",
     "output_type": "stream",
     "text": [
      "[DEBUG] smo_step: eta = 0.0\n",
      "238.82194476875355\n",
      "Accuracy of poly svm model-3=  0.0 %\n"
     ]
    }
   ],
   "source": [
    "poly_svm_m3 = multi_class_svm(c=5.0)\n",
    "\n",
    "#training and testing of model-3\n",
    "\n",
    "poly_svm_m3.fit(A_train_m3, B_train_m3)\n",
    "\n",
    "#printing poly_svm\n",
    "print(poly_svm_m3._b)\n",
    "\n",
    "\n",
    "pred_m3_svm = poly_svm_m3.predict(A_test_m3)\n",
    "print(\"Accuracy of poly svm model-3= \", (poly_svm_m3.accuracy(pred_m3_svm, B_test_m3))*100, \"%\")"
   ]
  },
  {
   "cell_type": "code",
   "execution_count": 117,
   "metadata": {},
   "outputs": [
    {
     "name": "stdout",
     "output_type": "stream",
     "text": [
      "intercept=[-1.25416081]\n",
      "Accuracy of poly svc model 1 =  100.0\n"
     ]
    }
   ],
   "source": [
    "from sklearn.svm import SVC\n",
    "poly_svc_m3 = SVC(kernel = 'poly', degree = 2)\n",
    "poly_svc_m3.fit(A_train_m3, B_train_m3.astype(np.int32))\n",
    "\n",
    "#printing intercept\n",
    "print(f\"intercept={poly_svc_m3.intercept_}\")\n",
    "#prediction of svc\n",
    "pred_m3_svc = poly_svc_m3.predict(A_test_m3)\n",
    "print(\"Accuracy of poly svc model 1 = \", accuracy_score(B_test_m3, pred_m3_svc)*100)"
   ]
  }
 ],
 "metadata": {
  "kernelspec": {
   "display_name": "Python 3.9.12 ('base')",
   "language": "python",
   "name": "python3"
  },
  "language_info": {
   "codemirror_mode": {
    "name": "ipython",
    "version": 3
   },
   "file_extension": ".py",
   "mimetype": "text/x-python",
   "name": "python",
   "nbconvert_exporter": "python",
   "pygments_lexer": "ipython3",
   "version": "3.9.12"
  },
  "orig_nbformat": 4,
  "vscode": {
   "interpreter": {
    "hash": "886d5ead374c248a88e542b3362d4a2a699db30f125fd533335417ffeaaadd4b"
   }
  }
 },
 "nbformat": 4,
 "nbformat_minor": 2
}
